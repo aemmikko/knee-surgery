{
 "cells": [
  {
   "cell_type": "markdown",
   "metadata": {},
   "source": [
    "<h1>What We Learned</h1>\n",
    "\n",
    "- How to create and format Jupyter notebooks\n",
    "\n",
    "- Lesson notebooks, what we taught and what others taught us\n",
    "\n",
    "- Customizing personal blog\n",
    "\n",
    "- Learning how to code and look for resources to help, like AI and Stack Overflow\n",
    "\n",
    "- Game Tinkers (see below)"
   ]
  },
  {
   "cell_type": "markdown",
   "metadata": {},
   "source": [
    "<h2>- Game Tinkers: </h2>\n",
    "\n",
    "- Spaceship modeled after R2D2 as an entrance to the level\n",
    "\n",
    "- Using NPC code to create interactable objects (that don’t talk or quiz)\n",
    "\n",
    "- Created our own original sprites to use in the game and included them in the code (pathing)"
   ]
  },
  {
   "cell_type": "markdown",
   "metadata": {},
   "source": [
    "<h3>Spaceship Code</h3>"
   ]
  },
  {
   "cell_type": "code",
   "execution_count": null,
   "metadata": {
    "vscode": {
     "languageId": "javascript"
    }
   },
   "outputs": [],
   "source": [
    "//interactable spaceship\n",
    "const spaceship = path + \"/images/gamify/spaceship.png\"; // path to the spaceship sprite\n",
    "const sprite_greet_spaceship = \"Ready to go to space?\";\n",
    "const sprite_data_spaceship = {\n",
    "  id: 'Spaceship',\n",
    "  greeting: sprite_greet_spaceship,\n",
    "  src: sprite_src_spaceship,\n",
    "  SCALE_FACTOR: 8,\n",
    "  ANIMATION_RATE: 100,\n",
    "  pixels: {width: 500, height: 500},\n",
    "  INIT_POSITION: { x: (width * 1 / 4), y: (height * 3 / 4)},\n",
    "  orientation: {rows: 1, columns: 3 },\n",
    "  down: {row: 0, start: 0, columns: 3 },\n",
    "  hitbox: { widthPercentage: 0.1, heightPercentage: 0.2 },\n",
    "  //says greeting when interacted with\n",
    "  reaction: function() {\n",
    "        alert(sprite_greet_spaceship);\n",
    "  }\n",
    "}"
   ]
  },
  {
   "cell_type": "markdown",
   "metadata": {},
   "source": [
    "<h3>Interactable Objects</h3>"
   ]
  },
  {
   "cell_type": "code",
   "execution_count": null,
   "metadata": {
    "vscode": {
     "languageId": "javascript"
    }
   },
   "outputs": [],
   "source": [
    "//cake\n",
    "const sprite_src_cake = path + \"/images/gamify/gameCake.png\";\n",
    "const sprite_data_cake = {\n",
    "    id: 'Cake',\n",
    "    src: sprite_src_cake,\n",
    "    SCALE_FACTOR: 8,\n",
    "    ANIMATION_RATE: 50,\n",
    "    pixels: {height: 256, width: 352},\n",
    "    INIT_POSITION: { x: randomPosition, y: randomPosition},\n",
    "    orientation: {rows: 8, columns: 11 },\n",
    "    down: {row: 5, start: 0, columns: 3 }, \n",
    "    hitbox: { widthPercentage: 0.1, heightPercentage: 0.2 },\n",
    "}\n",
    "\n",
    "//burger\n",
    "    const sprite_src_burger = path + \"/images/gamify/burger.png\";\n",
    "    const sprite_data_burger = {\n",
    "        id: 'Burger',\n",
    "        src: sprite_src_burger,\n",
    "        SCALE_FACTOR: 8,\n",
    "        ANIMATION_RATE: 50,\n",
    "        pixels: {height: 256, width: 352},\n",
    "        INIT_POSITION: { x: randomPosition, y: randomPosition},\n",
    "        orientation: {rows: 8, columns: 11 },\n",
    "        down: {row: 5, start: 0, columns: 3 },\n",
    "        hitbox: { widthPercentage: 0.1, heightPercentage: 0.2 },\n",
    "    }"
   ]
  },
  {
   "cell_type": "markdown",
   "metadata": {},
   "source": [
    "<h3>Sprites and Draw.io Diagram</h3>"
   ]
  },
  {
   "cell_type": "markdown",
   "metadata": {},
   "source": [
    "![Image](https://github.com/user-attachments/assets/692be0f2-275d-4863-a7a7-99510bd98886)"
   ]
  },
  {
   "cell_type": "markdown",
   "metadata": {},
   "source": [
    "![Image](https://github.com/user-attachments/assets/2960f4fb-3006-4f30-b2a6-24fc921c8f0b)"
   ]
  },
  {
   "cell_type": "markdown",
   "metadata": {},
   "source": [
    "![Image](https://github.com/user-attachments/assets/46367d2e-beec-447f-8491-2527a0e0b4a3)"
   ]
  },
  {
   "cell_type": "markdown",
   "metadata": {},
   "source": [
    "![Image](https://github.com/user-attachments/assets/dda4fffc-8a82-499c-977d-7df55655ea7a)"
   ]
  },
  {
   "cell_type": "markdown",
   "metadata": {},
   "source": [
    "![Image](https://github.com/user-attachments/assets/995f89d3-9f0f-4f88-aadf-e568d979a2ee)"
   ]
  },
  {
   "cell_type": "markdown",
   "metadata": {},
   "source": [
    "![Image](https://github.com/user-attachments/assets/5b828566-fc01-4bf0-977b-0a0425920135)"
   ]
  },
  {
   "cell_type": "markdown",
   "metadata": {},
   "source": [
    "<h1>Night at the Museum</h1>"
   ]
  },
  {
   "cell_type": "markdown",
   "metadata": {},
   "source": [
    "Night at the Museum was a fun time for everyone! It was nice to see everyone's projects and try to explain ours.\n",
    "\n",
    "We had issues on both computers when trying to get the game running. When explaining the concept people found it interesting but the alien \"enemy\" would be a bit much and we scrapped it in the end."
   ]
  },
  {
   "cell_type": "markdown",
   "metadata": {},
   "source": [
    "<h2>Other Projects</h2>"
   ]
  },
  {
   "cell_type": "markdown",
   "metadata": {},
   "source": [
    "A project that caught our eye was by West and Evan.  They had a creative and funny concept where you had to escape from someone's basement using money you could earn through either a minigame or a quiz."
   ]
  },
  {
   "cell_type": "markdown",
   "metadata": {},
   "source": [
    "<h1>Final Reflection</h1>"
   ]
  },
  {
   "cell_type": "markdown",
   "metadata": {},
   "source": [
    "Unfortunately, I don't think I will be trying to further my education in computer science. My parents do want me to have a more solid base of knowledge on this subject though, and we both agreed it would be more effective for me to learn from them directly at home as they are computer scientists themselves."
   ]
  },
  {
   "cell_type": "markdown",
   "metadata": {},
   "source": [
    "When it comes to strengths, once I understand something I can code quickly and be very efficient. However, I don’t really look for knowledge which is a flaw and while learning comes quickly to me I have little interest in seeking out new ideas."
   ]
  },
  {
   "cell_type": "markdown",
   "metadata": {},
   "source": [
    "Our next steps will be to continue on the game we’re currently working on until it can be a faithful representation of our original concept. Making all of our assets ourselves works in our favor, as it gives our game a unique look and there’s no issue of searching for sprites to use. However, progress is a bit slow, as it takes a bit to understand what we’re doing and implement new concepts into the game."
   ]
  },
  {
   "cell_type": "markdown",
   "metadata": {},
   "source": [
    "If I had to give us an honest grade, I think 3-4 points is fair. We didn't go above and beyond or anything, but we accomplished what we needed to."
   ]
  }
 ],
 "metadata": {
  "language_info": {
   "name": "python"
  }
 },
 "nbformat": 4,
 "nbformat_minor": 2
}
