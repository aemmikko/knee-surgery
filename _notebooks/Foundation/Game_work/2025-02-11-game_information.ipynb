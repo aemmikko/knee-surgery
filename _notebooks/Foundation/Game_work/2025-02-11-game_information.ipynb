{
 "cells": [
  {
   "cell_type": "code",
   "execution_count": null,
   "metadata": {
    "vscode": {
     "languageId": "plaintext"
    }
   },
   "outputs": [],
   "source": [
    "---\n",
    "layout: post\n",
    "title: Game Level Information\n",
    "description: Rough ideas about our game level\n",
    "type: issues \n",
    "comments: true\n",
    "---"
   ]
  },
  {
   "cell_type": "markdown",
   "metadata": {},
   "source": [
    "<h1>Ideation Diagram</h1>"
   ]
  },
  {
   "cell_type": "markdown",
   "metadata": {},
   "source": [
    "![Image](https://github.com/user-attachments/assets/5b828566-fc01-4bf0-977b-0a0425920135)"
   ]
  },
  {
   "cell_type": "markdown",
   "metadata": {},
   "source": [
    "We built off of Mr. Mortenson's diagram to make our own. Our game adds collectable items, cakes and burgers, and an enemy who doesn't want you to collect them. We also kept the game environment, background, and other classes."
   ]
  },
  {
   "cell_type": "markdown",
   "metadata": {},
   "source": [
    "<h1>Sprites in Progress</h1>"
   ]
  },
  {
   "cell_type": "markdown",
   "metadata": {},
   "source": [
    "![Image](https://github.com/user-attachments/assets/692be0f2-275d-4863-a7a7-99510bd98886)"
   ]
  },
  {
   "cell_type": "markdown",
   "metadata": {},
   "source": [
    "This is our background - it's meant to look like outer space. We're working on putting it into the game right now."
   ]
  },
  {
   "cell_type": "markdown",
   "metadata": {},
   "source": [
    "![Image](https://github.com/user-attachments/assets/2960f4fb-3006-4f30-b2a6-24fc921c8f0b)"
   ]
  },
  {
   "cell_type": "markdown",
   "metadata": {},
   "source": [
    "This is a draft of our sprite for the cake. The spritesheet is still being worked on, but this is the design we might be going with. It was made in Pixilart."
   ]
  },
  {
   "cell_type": "markdown",
   "metadata": {},
   "source": [
    "![Image](https://github.com/user-attachments/assets/46367d2e-beec-447f-8491-2527a0e0b4a3)"
   ]
  },
  {
   "cell_type": "markdown",
   "metadata": {},
   "source": [
    "This is a draft of our sprite for the burger. Like the cake, the spritesheet for this is also being worked on."
   ]
  },
  {
   "cell_type": "markdown",
   "metadata": {},
   "source": [
    "Other sprites that we are planning on making include the player sprite and the enemy sprite all made by ourselves."
   ]
  },
  {
   "cell_type": "markdown",
   "metadata": {},
   "source": [
    "<h1>Story</h1>\n",
    "\n",
    "The story for our level is that you're stuck in space and you have to find food to survive. However, there is an alien that wants you gone and tries its best to steal the food before you get to it. When you find food, your energy goes up and you get to keep playing."
   ]
  },
  {
   "cell_type": "markdown",
   "metadata": {},
   "source": [
    "<h1>What's Done? What's in Progress?</h1>\n",
    "\n",
    "We have finished part of our coding, going section by section to ensure we know what each bit of the code means. We still have the majority of the game functions to complete.\n",
    "\n",
    "The sprites we've shown are mostly completed, but need to have a finished spritesheet. The background and characters still need to be finished.\n",
    "\n",
    "Other than that, we're well on our way!"
   ]
  }
 ],
 "metadata": {
  "language_info": {
   "name": "python"
  }
 },
 "nbformat": 4,
 "nbformat_minor": 2
}
