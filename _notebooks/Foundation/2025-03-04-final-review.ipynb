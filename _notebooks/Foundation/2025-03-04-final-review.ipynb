{
 "cells": [
  {
   "cell_type": "markdown",
   "metadata": {},
   "source": [
    "- Game Tinkers:\n",
    "\n",
    "    - Spaceship modeled after R2D2 as an entrance to the level\n",
    "    - Using NPC code to create interactable objects (that don’t talk or quiz)\n",
    "    - Modified different classes to suit our own game using our own images\n",
    "\n",
    "- How to create and format Jupyter notebooks\n",
    "\n",
    "- Lesson notebooks, what we taught and what others taught us\n",
    "\n",
    "- Customizing personal blog\n",
    "\n",
    "- In general, learning how to code and look for resources (utilizing stuff like AI and Stack Overflow)"
   ]
  },
  {
   "cell_type": "markdown",
   "metadata": {},
   "source": [
    "Spaceship: add a code cell showing what the spaceship is and an image of the sprite. Say that the code is modeled after R2D2 and is being used as an entrance to the game from the original level, similar to how the first code is used."
   ]
  },
  {
   "cell_type": "code",
   "execution_count": null,
   "metadata": {
    "vscode": {
     "languageId": "plaintext"
    }
   },
   "outputs": [],
   "source": [
    "serlij"
   ]
  },
  {
   "cell_type": "markdown",
   "metadata": {},
   "source": [
    "Interactables:"
   ]
  },
  {
   "cell_type": "code",
   "execution_count": null,
   "metadata": {
    "vscode": {
     "languageId": "plaintext"
    }
   },
   "outputs": [],
   "source": [
    "awefoiuh'wer"
   ]
  },
  {
   "cell_type": "markdown",
   "metadata": {},
   "source": [
    "Classes:"
   ]
  },
  {
   "cell_type": "code",
   "execution_count": null,
   "metadata": {
    "vscode": {
     "languageId": "plaintext"
    }
   },
   "outputs": [],
   "source": [
    "wepiweg"
   ]
  },
  {
   "cell_type": "markdown",
   "metadata": {},
   "source": [
    "The thing didn't work but when the concept was explained people generally liked it, but the concept of the alien enemy was a bit much "
   ]
  },
  {
   "cell_type": "markdown",
   "metadata": {},
   "source": [
    "west's project"
   ]
  },
  {
   "cell_type": "markdown",
   "metadata": {},
   "source": [
    "Not planning on pursuing an education in computer science, but my parents are computer scientists and we have already made a plan on summer homeschooling surrounding compsci"
   ]
  },
  {
   "cell_type": "markdown",
   "metadata": {},
   "source": [
    "Once I understand something I can code quickly and be very efficient. However, I don’t really look for knowledge which is a flaw and while learning comes quickly to me I have little interest in seeking out new ideas"
   ]
  },
  {
   "cell_type": "markdown",
   "metadata": {},
   "source": [
    "Our next steps will be to continue on the game we’re currently working on until it can be a faithful representation of our original concept. Making all of our assets ourselves works in our favor, as it gives our game a unique look and there’s no issue of searching for sprites to use. However, progress is a bit slow, as it takes a bit to understand what we’re doing and implement new concepts into the game."
   ]
  },
  {
   "cell_type": "markdown",
   "metadata": {},
   "source": [
    "Sending summary of what your pair will be talking about 24 hours in advance of Live review in multi-person DM (you, pair, Teacher, TA). Include in summary honest self grade assessment on point related topics, including reasoning. Being able to highlight all 5 points, as a pair in 4 minutes of Live Review."
   ]
  }
 ],
 "metadata": {
  "language_info": {
   "name": "python"
  }
 },
 "nbformat": 4,
 "nbformat_minor": 2
}
