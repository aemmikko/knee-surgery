{
 "cells": [
  {
   "cell_type": "markdown",
   "metadata": {},
   "source": [
    "Popcorn Hacks (transferred)"
   ]
  },
  {
   "cell_type": "markdown",
   "metadata": {},
   "source": [
    "Exercise 1: Create a Rectangle (Fridge)"
   ]
  },
  {
   "cell_type": "code",
   "execution_count": null,
   "metadata": {
    "vscode": {
     "languageId": "javascript"
    }
   },
   "outputs": [],
   "source": [
    "%%js\n",
    "\n",
    "class Rectangle{\n",
    "    constructor(width, length){ //creates the width and length\n",
    "        this.width = width;\n",
    "        this.length = length;\n",
    "    }\n",
    "\n",
    "    speak() {\n",
    "        console.log(`The width is ${this.width} and the length is ${this.length}.`); //says what the width and length are\n",
    "    }\n",
    "}\n",
    "\n",
    "const Fridge = new Rectangle(100, 200); //creates a Fridge with width 100 and length 200\n",
    "Fridge.speak(); //says the dimensions of the Fridge"
   ]
  },
  {
   "cell_type": "markdown",
   "metadata": {},
   "source": [
    "Exercise 2: Change Dimensions\n",
    "Use the Rectangle to:\n",
    "\n",
    "Part a.) Create a rectangle with a width of 20 and height of 40.\n",
    "\n",
    "Part b.) Change the dimensions to make the area 200 units².\n"
   ]
  },
  {
   "cell_type": "code",
   "execution_count": null,
   "metadata": {
    "vscode": {
     "languageId": "javascript"
    }
   },
   "outputs": [],
   "source": [
    "%%js\n",
    "\n",
    "class Rectangle{\n",
    "    constructor(width, height){ //creates a class Rectangle with properties width and height\n",
    "        this.width = width;\n",
    "        this.length = length;\n",
    "    }\n",
    "\n",
    "    speak(){`The width is ${this.width} and the length is ${this.length}.`}; //says the dimensions\n",
    "}\n",
    "\n",
    "const newRect = new Rectangle(20, 40); //creates a new rectangle with width 20 and height 40\n",
    "newRect.speak(); //says the dimensions\n",
    "\n",
    "newRect.width = 40;\n",
    "newRect.length = 50;\n",
    "newRect.speak(); //says the new dimensions, width 40 and length 50\n"
   ]
  },
  {
   "cell_type": "markdown",
   "metadata": {},
   "source": [
    "Exercise 3: Experiment with Areas\n",
    "\n",
    "a.) Find all pairs of dimensions that give an area of 48 units²."
   ]
  },
  {
   "cell_type": "code",
   "execution_count": null,
   "metadata": {
    "vscode": {
     "languageId": "javascript"
    }
   },
   "outputs": [],
   "source": [
    "%%js \n",
    "\n",
    "class Rectangle { //makes the rectangle \n",
    "    constructor(width, height) { //sets what each number means\n",
    "        this.width = width;\n",
    "        this.height = height;\n",
    "    }\n",
    "\n",
    "    speak(){`A pair could be ${this.width} wide and ${this.height}, and vice versa.`} //creates the speaking format\n",
    "}\n",
    "\n",
    "const one = newRectangle(1, 48);\n",
    "const two = newRectangle(2, 24);\n",
    "const three = newRectangle(3, 16);\n",
    "const four = newRectangle(4, 12);\n",
    "const five = newRectangle(6, 8);\n",
    "one.speak();\n",
    "two.speak();\n",
    "three.speak();\n",
    "four.speak();\n",
    "five.speak(); //will show all the pairs in order."
   ]
  },
  {
   "cell_type": "markdown",
   "metadata": {},
   "source": [
    "Exercise 4: Rectangle Class (Missing Methods)"
   ]
  },
  {
   "cell_type": "code",
   "execution_count": null,
   "metadata": {
    "vscode": {
     "languageId": "javascript"
    }
   },
   "outputs": [],
   "source": [
    "class Rectangle {\n",
    "    constructor(width, height) {\n",
    "        this.width = width;\n",
    "        this.height = height;\n",
    "    }\n",
    "    // **Code missing**: Add method to calculate the perimeter of the rectangle\n",
    "    getPerimeter() {\n",
    "        return this.width + this.width + this.height + this.height;\n",
    "    }\n",
    "}\n",
    "const rect = new Rectangle(10, 5);\n",
    "console.log(rect.getPerimeter()); // Output should be 30"
   ]
  },
  {
   "cell_type": "markdown",
   "metadata": {},
   "source": [
    "Exercise 5: Square Class (Missing Method)"
   ]
  },
  {
   "cell_type": "code",
   "execution_count": null,
   "metadata": {
    "vscode": {
     "languageId": "javascript"
    }
   },
   "outputs": [],
   "source": [
    "class Square {\n",
    "    constructor(sideLength) {\n",
    "        this.sideLength = sideLength;\n",
    "    }\n",
    "    // **Code missing**: Add method to calculate the diagonal of the square\n",
    "    getDiagonal() {\n",
    "        return this.sideLength * Math.sqrt(2);\n",
    "    }\n",
    "}\n",
    "const square = new Square(5);\n",
    "console.log(square.getDiagonal()); // Output should be 7.07 (sideLength * √2)"
   ]
  }
 ],
 "metadata": {
  "language_info": {
   "name": "python"
  }
 },
 "nbformat": 4,
 "nbformat_minor": 2
}
